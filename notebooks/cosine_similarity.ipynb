{
 "cells": [
  {
   "cell_type": "code",
   "execution_count": 31,
   "metadata": {},
   "outputs": [],
   "source": [
    "import os\n",
    "from PIL import Image\n",
    "import tensorflow.keras\n",
    "import cv2\n",
    "import numpy as np\n",
    "import os.path\n",
    "import tensorflow as tf\n",
    "import matplotlib.pyplot as plt"
   ]
  },
  {
   "cell_type": "code",
   "execution_count": 8,
   "metadata": {},
   "outputs": [],
   "source": [
    "from tensorflow.keras.preprocessing.image import img_to_array\n",
    "from PIL import ImageFile\n",
    "ImageFile.LOAD_TRUNCATED_IMAGES = True\n",
    "from sklearn.metrics.pairwise import cosine_similarity as cs\n",
    "from tensorflow.keras.applications.mobilenet_v2 import MobileNetV2, preprocess_input"
   ]
  },
  {
   "cell_type": "code",
   "execution_count": 3,
   "metadata": {},
   "outputs": [
    {
     "name": "stdout",
     "output_type": "stream",
     "text": [
      "Collecting opencv-python\n",
      "  Downloading opencv_python-4.4.0.46-cp37-cp37m-win_amd64.whl (33.5 MB)\n",
      "Requirement already satisfied: numpy>=1.14.5 in c:\\users\\nikol\\.venvs\\lewagon\\lib\\site-packages (from opencv-python) (1.18.4)\n",
      "Installing collected packages: opencv-python\n",
      "Successfully installed opencv-python-4.4.0.46\n",
      "Note: you may need to restart the kernel to use updated packages.\n"
     ]
    },
    {
     "name": "stderr",
     "output_type": "stream",
     "text": [
      "WARNING: You are using pip version 20.2.3; however, version 20.3 is available.\n",
      "You should consider upgrading via the 'c:\\users\\nikol\\.venvs\\lewagon\\scripts\\python.exe -m pip install --upgrade pip' command.\n"
     ]
    }
   ],
   "source": [
    "#pip install opencv-python"
   ]
  },
  {
   "cell_type": "code",
   "execution_count": 19,
   "metadata": {},
   "outputs": [],
   "source": [
    "def file_selector(folder_path):\n",
    "    filenames = []\n",
    "    for image in os.listdir(folder_path):\n",
    "        if image[-3:] == 'jpg' or image[-3:] == 'png' or image[-4:] == 'jpeg':\n",
    "            filenames.append(os.path.abspath(folder_path + \"/\" + image))\n",
    "    return filenames\n"
   ]
  },
  {
   "cell_type": "code",
   "execution_count": 11,
   "metadata": {},
   "outputs": [
    {
     "name": "stdout",
     "output_type": "stream",
     "text": [
      "Downloading data from https://storage.googleapis.com/tensorflow/keras-applications/mobilenet_v2/mobilenet_v2_weights_tf_dim_ordering_tf_kernels_1.0_224.h5\n",
      "14540800/14536120 [==============================] - 1s 0us/step\n"
     ]
    }
   ],
   "source": [
    "model = MobileNetV2(weights = \"imagenet\", include_top = True, input_shape = (224, 224, 3))"
   ]
  },
  {
   "cell_type": "code",
   "execution_count": 12,
   "metadata": {},
   "outputs": [],
   "source": [
    "def image_vectorization(image_path):\n",
    "  #print(image_path)\n",
    "    img=Image.open(image_path)\n",
    "    img=img.convert(\"RGB\")\n",
    "    img = img.resize((224, 224))\n",
    "    #print(img.size)\n",
    "    img = img_to_array(img)\n",
    "    img = img.reshape((-1, 224, 224, 3))\n",
    "    #print(img.shape)\n",
    "    img=preprocess_input(img)\n",
    "    vector=model.predict(img)\n",
    "\n",
    "    return vector"
   ]
  },
  {
   "cell_type": "code",
   "execution_count": 14,
   "metadata": {},
   "outputs": [],
   "source": [
    "def get_vectors(files):   \n",
    "    liste_vector=[]\n",
    "    for picture in files:\n",
    "        liste_vector.append(image_vectorization(picture)[0].tolist())\n",
    "    return liste_vector"
   ]
  },
  {
   "cell_type": "code",
   "execution_count": 27,
   "metadata": {},
   "outputs": [],
   "source": [
    "def similarity_detection(vectors, files):\n",
    "  #wenn iteration in skip, dann alles überspringen\n",
    "  skip=[]\n",
    "  dict_pairs={}\n",
    "  X=np.array(vectors)#similarity bestimmen\n",
    "  similarity=cs(X)#similarity bestimmen\n",
    "  #for schleife die über alle listen (Bilder) in similarity geht\n",
    "  for row in similarity.tolist():\n",
    "    if similarity.tolist().index(row) in skip:\n",
    "      pass\n",
    "    else:\n",
    "  #wir suchen nach dem index der Bilder die ähnlich zu dem jetzigen Bild (der Iteration) ist\n",
    "      index_list=[index for index in range(len(row)) if row[index] >= 0.3]\n",
    "      #print(index_list)\n",
    "  #skip.append index\n",
    "      liste_pairs=[]\n",
    "      for index in index_list:\n",
    "        skip.append(index)\n",
    "        liste_pairs.append(files[index])\n",
    "      #print(skip)\n",
    "  #dictionary mit ähnlichen Bildern wie in alter Funktion\n",
    "      dict_pairs[f'{similarity.tolist().index(row)}']=liste_pairs\n",
    "  \n",
    "  return dict_pairs"
   ]
  },
  {
   "cell_type": "code",
   "execution_count": 35,
   "metadata": {},
   "outputs": [],
   "source": [
    "def liste_similar_pictures(dictionary):\n",
    "  liste=[]\n",
    "  for (key, value) in dictionary.items():\n",
    "    if len(value)>1:\n",
    "      for picture in value[1:]:\n",
    "        liste.append(picture)\n",
    "  return liste"
   ]
  },
  {
   "cell_type": "code",
   "execution_count": null,
   "metadata": {},
   "outputs": [],
   "source": [
    "def replace_pictures(liste):\n",
    "    for img in liste:\n",
    "        os.replace(f\"/content/gdrs.repive/MyDrive/Apollo_20/Test-similarity/{picture}\", f\"/content/gdrive/MyDrive/Apollo_20/delete_similar_pictures/{picture}\")\n",
    "  \n",
    "    return True"
   ]
  },
  {
   "cell_type": "code",
   "execution_count": 23,
   "metadata": {},
   "outputs": [],
   "source": [
    "files_nick=file_selector(\"/Users/Nikol/code/NikolausKCL/Test-similarity\")"
   ]
  },
  {
   "cell_type": "code",
   "execution_count": 24,
   "metadata": {},
   "outputs": [],
   "source": [
    "vector_liste=get_vectors(files_nick)"
   ]
  },
  {
   "cell_type": "code",
   "execution_count": 28,
   "metadata": {},
   "outputs": [],
   "source": [
    "similarity_dict=similarity_detection(vector_liste, files_nick)"
   ]
  },
  {
   "cell_type": "code",
   "execution_count": 36,
   "metadata": {},
   "outputs": [],
   "source": [
    "liste_sim=liste_similar_pictures(similarity_dict)"
   ]
  },
  {
   "cell_type": "code",
   "execution_count": 37,
   "metadata": {},
   "outputs": [
    {
     "data": {
      "text/plain": [
       "['C:\\\\Users\\\\Nikol\\\\code\\\\NikolausKCL\\\\Test-similarity\\\\7d119d43-b6a7-44ca-902e-fe89a4f0a988.jpg',\n",
       " 'C:\\\\Users\\\\Nikol\\\\code\\\\NikolausKCL\\\\Test-similarity\\\\edcbf496-e53d-4788-aace-bbe2da369fff.jpg',\n",
       " 'C:\\\\Users\\\\Nikol\\\\code\\\\NikolausKCL\\\\Test-similarity\\\\6c0970ca-b0d9-4192-a9a3-14d03764da94.jpg',\n",
       " 'C:\\\\Users\\\\Nikol\\\\code\\\\NikolausKCL\\\\Test-similarity\\\\8560462d-963e-4d8c-b9a0-05bd5a12cf8e.jpg',\n",
       " 'C:\\\\Users\\\\Nikol\\\\code\\\\NikolausKCL\\\\Test-similarity\\\\dfb1fbbc-edef-4fa1-b1ef-0b035c8e53e9.jpg',\n",
       " 'C:\\\\Users\\\\Nikol\\\\code\\\\NikolausKCL\\\\Test-similarity\\\\edcbf496-e53d-4788-aace-bbe2da369fff.jpg',\n",
       " 'C:\\\\Users\\\\Nikol\\\\code\\\\NikolausKCL\\\\Test-similarity\\\\edcbf496-e53d-4788-aace-bbe2da369fff.jpg',\n",
       " 'C:\\\\Users\\\\Nikol\\\\code\\\\NikolausKCL\\\\Test-similarity\\\\c0725d84-72e1-4b0f-8d0c-14fc37614250.jpg']"
      ]
     },
     "execution_count": 37,
     "metadata": {},
     "output_type": "execute_result"
    }
   ],
   "source": [
    "liste_sim"
   ]
  },
  {
   "cell_type": "code",
   "execution_count": 38,
   "metadata": {},
   "outputs": [],
   "source": [
    "def execute(folder_path):\n",
    "    files=file_selector(folder_path)\n",
    "    vector_liste=get_vectors(files)\n",
    "    similarity_dict=similarity_detection(vector_liste, files)\n",
    "    liste_sim=liste_similar_pictures(similarity_dict)\n",
    "    os.mkdir(f\"{folder_path}/similar_pictures_folder\")\n",
    "    similar_pictures_folder = os.path.abspath(f\"{folder_path}/similar_pictures_folder\")\n",
    "    for picture in liste_sim:\n",
    "        os.replace(f\"{picture}\", f\"{similar_pictures_folder}/{picture.rsplit('/', 1)[-1]}\")"
   ]
  },
  {
   "cell_type": "code",
   "execution_count": null,
   "metadata": {},
   "outputs": [],
   "source": []
  }
 ],
 "metadata": {
  "kernelspec": {
   "display_name": "Python 3",
   "language": "python",
   "name": "python3"
  },
  "language_info": {
   "codemirror_mode": {
    "name": "ipython",
    "version": 3
   },
   "file_extension": ".py",
   "mimetype": "text/x-python",
   "name": "python",
   "nbconvert_exporter": "python",
   "pygments_lexer": "ipython3",
   "version": "3.7.7"
  }
 },
 "nbformat": 4,
 "nbformat_minor": 4
}

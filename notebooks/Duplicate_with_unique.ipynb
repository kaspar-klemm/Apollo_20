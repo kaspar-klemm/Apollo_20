{
 "cells": [
  {
   "cell_type": "code",
   "execution_count": 1,
   "metadata": {
    "colab": {
     "base_uri": "https://localhost:8080/"
    },
    "executionInfo": {
     "elapsed": 603,
     "status": "ok",
     "timestamp": 1606236284165,
     "user": {
      "displayName": "Nikolaus v. Lutterotti",
      "photoUrl": "",
      "userId": "16399342275534858267"
     },
     "user_tz": -60
    },
    "id": "Uw6GNBca0FrB",
    "outputId": "ba881f44-2da4-4dd8-d397-202de68121c4"
   },
   "outputs": [
    {
     "name": "stdout",
     "output_type": "stream",
     "text": [
      "Drive already mounted at /content/gdrive; to attempt to forcibly remount, call drive.mount(\"/content/gdrive\", force_remount=True).\n"
     ]
    }
   ],
   "source": [
    "from google.colab import drive\n",
    "drive.mount('/content/gdrive')"
   ]
  },
  {
   "cell_type": "code",
   "execution_count": 2,
   "metadata": {
    "colab": {
     "base_uri": "https://localhost:8080/"
    },
    "executionInfo": {
     "elapsed": 963,
     "status": "ok",
     "timestamp": 1606236284532,
     "user": {
      "displayName": "Nikolaus v. Lutterotti",
      "photoUrl": "",
      "userId": "16399342275534858267"
     },
     "user_tz": -60
    },
    "id": "KCVLi3LI0JrR",
    "outputId": "be75076a-5bcc-4b21-bf2f-80f5d50a306d"
   },
   "outputs": [
    {
     "name": "stdout",
     "output_type": "stream",
     "text": [
      " Duplicate_test   GetData+DLmodel.ipynb   MAIN\t'unnötig '\n"
     ]
    }
   ],
   "source": [
    "!ls gdrive/MyDrive/Apollo_20"
   ]
  },
  {
   "cell_type": "code",
   "execution_count": 3,
   "metadata": {
    "executionInfo": {
     "elapsed": 958,
     "status": "ok",
     "timestamp": 1606236284532,
     "user": {
      "displayName": "Nikolaus v. Lutterotti",
      "photoUrl": "",
      "userId": "16399342275534858267"
     },
     "user_tz": -60
    },
    "id": "Al0uDRKU0R3O"
   },
   "outputs": [],
   "source": [
    "import os\n",
    "os.chdir(\"/content/gdrive/MyDrive/Apollo_20/Duplicate_test\")"
   ]
  },
  {
   "cell_type": "code",
   "execution_count": 4,
   "metadata": {
    "colab": {
     "base_uri": "https://localhost:8080/"
    },
    "executionInfo": {
     "elapsed": 1209,
     "status": "ok",
     "timestamp": 1606236284788,
     "user": {
      "displayName": "Nikolaus v. Lutterotti",
      "photoUrl": "",
      "userId": "16399342275534858267"
     },
     "user_tz": -60
    },
    "id": "5OM8TgQz0W7s",
    "outputId": "bb07bb6c-59ad-4058-fc58-1ad0320d11de"
   },
   "outputs": [
    {
     "name": "stdout",
     "output_type": "stream",
     "text": [
      "'2 VL 06102017-01.png'\t'2 VL 06102017-07.png'\n",
      "'2 VL 06102017-02.png'\t'2 VL 06102017-08.png'\n",
      "'2 VL 06102017-03.png'\t'Kopie von 2 VL 06102017-01.png'\n",
      "'2 VL 06102017-04.png'\t'Kopie von 2 VL 06102017-02.png'\n",
      "'2 VL 06102017-05.png'\t'Kopie von 2 VL 06102017-03.png'\n",
      "'2 VL 06102017-06.png'\t'Kopie von 2 VL 06102017-04.png'\n"
     ]
    }
   ],
   "source": [
    "!ls"
   ]
  },
  {
   "cell_type": "code",
   "execution_count": 5,
   "metadata": {
    "executionInfo": {
     "elapsed": 2988,
     "status": "ok",
     "timestamp": 1606236286572,
     "user": {
      "displayName": "Nikolaus v. Lutterotti",
      "photoUrl": "",
      "userId": "16399342275534858267"
     },
     "user_tz": -60
    },
    "id": "uxX2ZpHl08oK"
   },
   "outputs": [],
   "source": [
    "from PIL import Image\n",
    "from tensorflow.keras import preprocessing"
   ]
  },
  {
   "cell_type": "code",
   "execution_count": 6,
   "metadata": {
    "executionInfo": {
     "elapsed": 2993,
     "status": "ok",
     "timestamp": 1606236286580,
     "user": {
      "displayName": "Nikolaus v. Lutterotti",
      "photoUrl": "",
      "userId": "16399342275534858267"
     },
     "user_tz": -60
    },
    "id": "I54YQN0Z1s83"
   },
   "outputs": [],
   "source": [
    "directory = \"/content/gdrive/MyDrive/Apollo_20/Duplicate_test\"\n",
    "picture_list=[]\n",
    "for picture in os.listdir(directory):\n",
    "    picture_list.append(Image.open(picture))"
   ]
  },
  {
   "cell_type": "code",
   "execution_count": 7,
   "metadata": {
    "colab": {
     "base_uri": "https://localhost:8080/"
    },
    "executionInfo": {
     "elapsed": 2990,
     "status": "ok",
     "timestamp": 1606236286582,
     "user": {
      "displayName": "Nikolaus v. Lutterotti",
      "photoUrl": "",
      "userId": "16399342275534858267"
     },
     "user_tz": -60
    },
    "id": "e1u_b29V5kqU",
    "outputId": "8c8c8d4d-60d4-44aa-d069-f1da423da494"
   },
   "outputs": [
    {
     "data": {
      "text/plain": [
       "[<PIL.PngImagePlugin.PngImageFile image mode=P size=1654x2338 at 0x7F25047F25C0>,\n",
       " <PIL.PngImagePlugin.PngImageFile image mode=P size=1654x2338 at 0x7F24D0484B70>,\n",
       " <PIL.PngImagePlugin.PngImageFile image mode=P size=1654x2338 at 0x7F24D048F748>,\n",
       " <PIL.PngImagePlugin.PngImageFile image mode=P size=1654x2338 at 0x7F24D048F7F0>,\n",
       " <PIL.PngImagePlugin.PngImageFile image mode=P size=1654x2338 at 0x7F24D048F898>,\n",
       " <PIL.PngImagePlugin.PngImageFile image mode=P size=1654x2338 at 0x7F24D048F940>,\n",
       " <PIL.PngImagePlugin.PngImageFile image mode=P size=1654x2338 at 0x7F24D048F9E8>,\n",
       " <PIL.PngImagePlugin.PngImageFile image mode=P size=1654x2338 at 0x7F24D048FA90>,\n",
       " <PIL.PngImagePlugin.PngImageFile image mode=P size=1654x2338 at 0x7F24D048FB38>,\n",
       " <PIL.PngImagePlugin.PngImageFile image mode=P size=1654x2338 at 0x7F24D048FBE0>,\n",
       " <PIL.PngImagePlugin.PngImageFile image mode=P size=1654x2338 at 0x7F24D048FC88>,\n",
       " <PIL.PngImagePlugin.PngImageFile image mode=P size=1654x2338 at 0x7F24D048FD30>]"
      ]
     },
     "execution_count": 7,
     "metadata": {
      "tags": []
     },
     "output_type": "execute_result"
    }
   ],
   "source": [
    "picture_list"
   ]
  },
  {
   "cell_type": "code",
   "execution_count": 8,
   "metadata": {
    "executionInfo": {
     "elapsed": 2986,
     "status": "ok",
     "timestamp": 1606236286583,
     "user": {
      "displayName": "Nikolaus v. Lutterotti",
      "photoUrl": "",
      "userId": "16399342275534858267"
     },
     "user_tz": -60
    },
    "id": "mi_eq8xS6Fsw"
   },
   "outputs": [],
   "source": [
    "import pandas as pd"
   ]
  },
  {
   "cell_type": "code",
   "execution_count": 9,
   "metadata": {
    "executionInfo": {
     "elapsed": 2981,
     "status": "ok",
     "timestamp": 1606236286583,
     "user": {
      "displayName": "Nikolaus v. Lutterotti",
      "photoUrl": "",
      "userId": "16399342275534858267"
     },
     "user_tz": -60
    },
    "id": "0UsOV_7m6MlT"
   },
   "outputs": [],
   "source": [
    "df_test_pictures = pd.DataFrame(picture_list, columns=['pictures'])"
   ]
  },
  {
   "cell_type": "code",
   "execution_count": 10,
   "metadata": {
    "executionInfo": {
     "elapsed": 2979,
     "status": "ok",
     "timestamp": 1606236286584,
     "user": {
      "displayName": "Nikolaus v. Lutterotti",
      "photoUrl": "",
      "userId": "16399342275534858267"
     },
     "user_tz": -60
    },
    "id": "SZO6nqEqGkff"
   },
   "outputs": [],
   "source": [
    "picture_list_str=os.listdir(directory)"
   ]
  },
  {
   "cell_type": "code",
   "execution_count": 11,
   "metadata": {
    "colab": {
     "base_uri": "https://localhost:8080/",
     "height": 417
    },
    "executionInfo": {
     "elapsed": 2970,
     "status": "ok",
     "timestamp": 1606236286585,
     "user": {
      "displayName": "Nikolaus v. Lutterotti",
      "photoUrl": "",
      "userId": "16399342275534858267"
     },
     "user_tz": -60
    },
    "id": "oZRqsZs_5qoR",
    "outputId": "3044247b-16e3-4f10-9db8-217973710a3b"
   },
   "outputs": [
    {
     "data": {
      "text/html": [
       "<div>\n",
       "<style scoped>\n",
       "    .dataframe tbody tr th:only-of-type {\n",
       "        vertical-align: middle;\n",
       "    }\n",
       "\n",
       "    .dataframe tbody tr th {\n",
       "        vertical-align: top;\n",
       "    }\n",
       "\n",
       "    .dataframe thead th {\n",
       "        text-align: right;\n",
       "    }\n",
       "</style>\n",
       "<table border=\"1\" class=\"dataframe\">\n",
       "  <thead>\n",
       "    <tr style=\"text-align: right;\">\n",
       "      <th></th>\n",
       "      <th>pictures</th>\n",
       "    </tr>\n",
       "  </thead>\n",
       "  <tbody>\n",
       "    <tr>\n",
       "      <th>0</th>\n",
       "      <td>&lt;PIL.PngImagePlugin.PngImageFile image mode=P ...</td>\n",
       "    </tr>\n",
       "    <tr>\n",
       "      <th>1</th>\n",
       "      <td>&lt;PIL.PngImagePlugin.PngImageFile image mode=P ...</td>\n",
       "    </tr>\n",
       "    <tr>\n",
       "      <th>2</th>\n",
       "      <td>&lt;PIL.PngImagePlugin.PngImageFile image mode=P ...</td>\n",
       "    </tr>\n",
       "    <tr>\n",
       "      <th>3</th>\n",
       "      <td>&lt;PIL.PngImagePlugin.PngImageFile image mode=P ...</td>\n",
       "    </tr>\n",
       "    <tr>\n",
       "      <th>4</th>\n",
       "      <td>&lt;PIL.PngImagePlugin.PngImageFile image mode=P ...</td>\n",
       "    </tr>\n",
       "    <tr>\n",
       "      <th>5</th>\n",
       "      <td>&lt;PIL.PngImagePlugin.PngImageFile image mode=P ...</td>\n",
       "    </tr>\n",
       "    <tr>\n",
       "      <th>6</th>\n",
       "      <td>&lt;PIL.PngImagePlugin.PngImageFile image mode=P ...</td>\n",
       "    </tr>\n",
       "    <tr>\n",
       "      <th>7</th>\n",
       "      <td>&lt;PIL.PngImagePlugin.PngImageFile image mode=P ...</td>\n",
       "    </tr>\n",
       "    <tr>\n",
       "      <th>8</th>\n",
       "      <td>&lt;PIL.PngImagePlugin.PngImageFile image mode=P ...</td>\n",
       "    </tr>\n",
       "    <tr>\n",
       "      <th>9</th>\n",
       "      <td>&lt;PIL.PngImagePlugin.PngImageFile image mode=P ...</td>\n",
       "    </tr>\n",
       "    <tr>\n",
       "      <th>10</th>\n",
       "      <td>&lt;PIL.PngImagePlugin.PngImageFile image mode=P ...</td>\n",
       "    </tr>\n",
       "    <tr>\n",
       "      <th>11</th>\n",
       "      <td>&lt;PIL.PngImagePlugin.PngImageFile image mode=P ...</td>\n",
       "    </tr>\n",
       "  </tbody>\n",
       "</table>\n",
       "</div>"
      ],
      "text/plain": [
       "                                             pictures\n",
       "0   <PIL.PngImagePlugin.PngImageFile image mode=P ...\n",
       "1   <PIL.PngImagePlugin.PngImageFile image mode=P ...\n",
       "2   <PIL.PngImagePlugin.PngImageFile image mode=P ...\n",
       "3   <PIL.PngImagePlugin.PngImageFile image mode=P ...\n",
       "4   <PIL.PngImagePlugin.PngImageFile image mode=P ...\n",
       "5   <PIL.PngImagePlugin.PngImageFile image mode=P ...\n",
       "6   <PIL.PngImagePlugin.PngImageFile image mode=P ...\n",
       "7   <PIL.PngImagePlugin.PngImageFile image mode=P ...\n",
       "8   <PIL.PngImagePlugin.PngImageFile image mode=P ...\n",
       "9   <PIL.PngImagePlugin.PngImageFile image mode=P ...\n",
       "10  <PIL.PngImagePlugin.PngImageFile image mode=P ...\n",
       "11  <PIL.PngImagePlugin.PngImageFile image mode=P ..."
      ]
     },
     "execution_count": 11,
     "metadata": {
      "tags": []
     },
     "output_type": "execute_result"
    }
   ],
   "source": [
    "df_test_pictures"
   ]
  },
  {
   "cell_type": "markdown",
   "metadata": {
    "id": "_NRfQyWYA-M-"
   },
   "source": [
    "**Dummie function**"
   ]
  },
  {
   "cell_type": "code",
   "execution_count": 12,
   "metadata": {
    "colab": {
     "base_uri": "https://localhost:8080/"
    },
    "executionInfo": {
     "elapsed": 5666,
     "status": "ok",
     "timestamp": 1606236289297,
     "user": {
      "displayName": "Nikolaus v. Lutterotti",
      "photoUrl": "",
      "userId": "16399342275534858267"
     },
     "user_tz": -60
    },
    "id": "isT-Ata7Bd8P",
    "outputId": "809ee06b-ff5b-44f2-c0dc-06b8a0cab04c"
   },
   "outputs": [
    {
     "name": "stdout",
     "output_type": "stream",
     "text": [
      "Requirement already satisfied: opencv-python in /usr/local/lib/python3.6/dist-packages (4.1.2.30)\n",
      "Requirement already satisfied: numpy>=1.11.3 in /usr/local/lib/python3.6/dist-packages (from opencv-python) (1.18.5)\n"
     ]
    }
   ],
   "source": [
    "pip install opencv-python"
   ]
  },
  {
   "cell_type": "code",
   "execution_count": 36,
   "metadata": {
    "executionInfo": {
     "elapsed": 632,
     "status": "ok",
     "timestamp": 1606237404297,
     "user": {
      "displayName": "Nikolaus v. Lutterotti",
      "photoUrl": "",
      "userId": "16399342275534858267"
     },
     "user_tz": -60
    },
    "id": "nwqx_wN0FEqS"
   },
   "outputs": [],
   "source": [
    "#cv2.cvtColor(picture_list[0], cv2.COLOR_BGR2GRAY)"
   ]
  },
  {
   "cell_type": "code",
   "execution_count": null,
   "metadata": {
    "executionInfo": {
     "elapsed": 5950,
     "status": "aborted",
     "timestamp": 1606236289601,
     "user": {
      "displayName": "Nikolaus v. Lutterotti",
      "photoUrl": "",
      "userId": "16399342275534858267"
     },
     "user_tz": -60
    },
    "id": "cauNYO99Ghrr"
   },
   "outputs": [],
   "source": []
  },
  {
   "cell_type": "code",
   "execution_count": 14,
   "metadata": {
    "executionInfo": {
     "elapsed": 772,
     "status": "ok",
     "timestamp": 1606236304288,
     "user": {
      "displayName": "Nikolaus v. Lutterotti",
      "photoUrl": "",
      "userId": "16399342275534858267"
     },
     "user_tz": -60
    },
    "id": "joNjhIuQBgKw"
   },
   "outputs": [],
   "source": [
    "import cv2\n",
    "import numpy as np"
   ]
  },
  {
   "cell_type": "code",
   "execution_count": 14,
   "metadata": {
    "executionInfo": {
     "elapsed": 732,
     "status": "ok",
     "timestamp": 1606236305782,
     "user": {
      "displayName": "Nikolaus v. Lutterotti",
      "photoUrl": "",
      "userId": "16399342275534858267"
     },
     "user_tz": -60
    },
    "id": "vjIdvMbpFhZs"
   },
   "outputs": [],
   "source": []
  },
  {
   "cell_type": "code",
   "execution_count": 15,
   "metadata": {
    "executionInfo": {
     "elapsed": 765,
     "status": "ok",
     "timestamp": 1606236306158,
     "user": {
      "displayName": "Nikolaus v. Lutterotti",
      "photoUrl": "",
      "userId": "16399342275534858267"
     },
     "user_tz": -60
    },
    "id": "oPRme7VM6kLT"
   },
   "outputs": [],
   "source": [
    "def dhash(image, hashSize=8):\n",
    "\t# convert the image to grayscale and resize the grayscale image,\n",
    "\t# adding a single column (width) so we can compute the horizontal\n",
    "\t# gradient\n",
    "\tgray = cv2.cvtColor(image, cv2.COLOR_BGR2GRAY)\n",
    "\tresized = cv2.resize(gray, (hashSize + 1, hashSize))\n",
    "\t# compute the (relative) horizontal gradient between adjacent\n",
    "\t# column pixels\n",
    "\tdiff = resized[:, 1:] > resized[:, :-1]\n",
    "\t# convert the difference image to a hash and return it\n",
    "\treturn sum([2 ** i for (i, v) in enumerate(diff.flatten()) if v])"
   ]
  },
  {
   "cell_type": "code",
   "execution_count": 16,
   "metadata": {
    "executionInfo": {
     "elapsed": 416,
     "status": "ok",
     "timestamp": 1606236307417,
     "user": {
      "displayName": "Nikolaus v. Lutterotti",
      "photoUrl": "",
      "userId": "16399342275534858267"
     },
     "user_tz": -60
    },
    "id": "yhM1LChq9Pb7"
   },
   "outputs": [],
   "source": [
    "import argparse"
   ]
  },
  {
   "cell_type": "code",
   "execution_count": 35,
   "metadata": {
    "executionInfo": {
     "elapsed": 880,
     "status": "ok",
     "timestamp": 1606237278999,
     "user": {
      "displayName": "Nikolaus v. Lutterotti",
      "photoUrl": "",
      "userId": "16399342275534858267"
     },
     "user_tz": -60
    },
    "id": "0Os88Z_SDj5X"
   },
   "outputs": [],
   "source": [
    "# hashes={}\n",
    "# for picture in picture_list:\n",
    "#   h = dhash(picture)\n",
    "#   p = hashes.get(h,[])\n",
    "#   p.append(picture)\n",
    "#   hashes[h] = p"
   ]
  },
  {
   "cell_type": "code",
   "execution_count": 20,
   "metadata": {
    "executionInfo": {
     "elapsed": 855,
     "status": "ok",
     "timestamp": 1606236387467,
     "user": {
      "displayName": "Nikolaus v. Lutterotti",
      "photoUrl": "",
      "userId": "16399342275534858267"
     },
     "user_tz": -60
    },
    "id": "e0C9Th8y0fn3"
   },
   "outputs": [],
   "source": [
    "\n",
    "#imagePaths = list(paths.list_images(args[\"dataset\"]))\n",
    "hashes = {}\n",
    "# loop over our image paths\n",
    "for imagePath in picture_list_str:\n",
    "\t# load the input image and compute the hash\n",
    "\timage = cv2.imread(imagePath)\n",
    "\th = dhash(image)\n",
    "\t# grab all image paths with that hash, add the current image\n",
    "\t# path to it, and store the list back in the hashes dictionary\n",
    "\tp = hashes.get(h, [])\n",
    "\tp.append(imagePath)\n",
    "\thashes[h] = p"
   ]
  },
  {
   "cell_type": "code",
   "execution_count": 37,
   "metadata": {
    "colab": {
     "base_uri": "https://localhost:8080/"
    },
    "executionInfo": {
     "elapsed": 646,
     "status": "ok",
     "timestamp": 1606237674589,
     "user": {
      "displayName": "Nikolaus v. Lutterotti",
      "photoUrl": "",
      "userId": "16399342275534858267"
     },
     "user_tz": -60
    },
    "id": "T-x1N3koOc2P",
    "outputId": "f18a6e43-f9c5-426b-a9d6-2afbd581bab3"
   },
   "outputs": [
    {
     "data": {
      "text/plain": [
       "{16: ['2 VL 06102017-04.png', 'Kopie von 2 VL 06102017-04.png'],\n",
       " 68788692672: ['2 VL 06102017-06.png'],\n",
       " 88237955651668: ['2 VL 06102017-02.png', 'Kopie von 2 VL 06102017-02.png'],\n",
       " 1164426841432100: ['2 VL 06102017-08.png'],\n",
       " 2251799813695552: ['2 VL 06102017-03.png', 'Kopie von 2 VL 06102017-03.png'],\n",
       " 3940685107429384: ['2 VL 06102017-05.png'],\n",
       " 3941337002934272: ['2 VL 06102017-01.png', 'Kopie von 2 VL 06102017-01.png'],\n",
       " 11258999068426240: ['2 VL 06102017-07.png']}"
      ]
     },
     "execution_count": 37,
     "metadata": {
      "tags": []
     },
     "output_type": "execute_result"
    }
   ],
   "source": [
    "hashes"
   ]
  },
  {
   "cell_type": "code",
   "execution_count": 30,
   "metadata": {
    "colab": {
     "base_uri": "https://localhost:8080/"
    },
    "executionInfo": {
     "elapsed": 615,
     "status": "ok",
     "timestamp": 1606236722286,
     "user": {
      "displayName": "Nikolaus v. Lutterotti",
      "photoUrl": "",
      "userId": "16399342275534858267"
     },
     "user_tz": -60
    },
    "id": "JqfAboFQ07fp",
    "outputId": "ad883ef3-c111-4cc4-d63b-20594ff28746"
   },
   "outputs": [
    {
     "name": "stdout",
     "output_type": "stream",
     "text": [
      "['2 VL 06102017-02.png', 'Kopie von 2 VL 06102017-02.png']\n",
      "['2 VL 06102017-03.png', 'Kopie von 2 VL 06102017-03.png']\n",
      "['2 VL 06102017-04.png', 'Kopie von 2 VL 06102017-04.png']\n",
      "['2 VL 06102017-01.png', 'Kopie von 2 VL 06102017-01.png']\n"
     ]
    }
   ],
   "source": [
    "for (key, value) in hashes.items():\n",
    "  if len(value)>1:\n",
    "    print(value)"
   ]
  },
  {
   "cell_type": "code",
   "execution_count": 32,
   "metadata": {
    "executionInfo": {
     "elapsed": 549,
     "status": "ok",
     "timestamp": 1606236946013,
     "user": {
      "displayName": "Nikolaus v. Lutterotti",
      "photoUrl": "",
      "userId": "16399342275534858267"
     },
     "user_tz": -60
    },
    "id": "kiefuVMaJzdw"
   },
   "outputs": [],
   "source": [
    "liste_duplicates=[]\n",
    "liste_first_picture=[]\n",
    "for (key, value) in hashes.items():\n",
    "  if len(value)>1:\n",
    "    liste_duplicates.append(value[1:])\n",
    "  else:\n",
    "    liste_first_picture.append(value[0])"
   ]
  },
  {
   "cell_type": "code",
   "execution_count": null,
   "metadata": {
    "executionInfo": {
     "elapsed": 5915,
     "status": "aborted",
     "timestamp": 1606236289610,
     "user": {
      "displayName": "Nikolaus v. Lutterotti",
      "photoUrl": "",
      "userId": "16399342275534858267"
     },
     "user_tz": -60
    },
    "id": "m5bRIz_xG_eB"
   },
   "outputs": [],
   "source": [
    "for key, value in hashes:\n",
    "  if len(value)>1:\n",
    "    print(value)"
   ]
  },
  {
   "cell_type": "code",
   "execution_count": 33,
   "metadata": {
    "colab": {
     "base_uri": "https://localhost:8080/"
    },
    "executionInfo": {
     "elapsed": 565,
     "status": "ok",
     "timestamp": 1606236956464,
     "user": {
      "displayName": "Nikolaus v. Lutterotti",
      "photoUrl": "",
      "userId": "16399342275534858267"
     },
     "user_tz": -60
    },
    "id": "h7UDVJUEH9in",
    "outputId": "45dde972-0868-4c5e-ae34-ae39653fbf9f"
   },
   "outputs": [
    {
     "data": {
      "text/plain": [
       "[['Kopie von 2 VL 06102017-02.png'],\n",
       " ['Kopie von 2 VL 06102017-03.png'],\n",
       " ['Kopie von 2 VL 06102017-04.png'],\n",
       " ['Kopie von 2 VL 06102017-01.png']]"
      ]
     },
     "execution_count": 33,
     "metadata": {
      "tags": []
     },
     "output_type": "execute_result"
    }
   ],
   "source": [
    "liste_duplicates"
   ]
  },
  {
   "cell_type": "code",
   "execution_count": 34,
   "metadata": {
    "colab": {
     "base_uri": "https://localhost:8080/"
    },
    "executionInfo": {
     "elapsed": 539,
     "status": "ok",
     "timestamp": 1606236966576,
     "user": {
      "displayName": "Nikolaus v. Lutterotti",
      "photoUrl": "",
      "userId": "16399342275534858267"
     },
     "user_tz": -60
    },
    "id": "5cguvOcILuS2",
    "outputId": "a5a77266-0b70-47a5-ffe4-0c2bbef61b47"
   },
   "outputs": [
    {
     "data": {
      "text/plain": [
       "['2 VL 06102017-05.png',\n",
       " '2 VL 06102017-06.png',\n",
       " '2 VL 06102017-07.png',\n",
       " '2 VL 06102017-08.png']"
      ]
     },
     "execution_count": 34,
     "metadata": {
      "tags": []
     },
     "output_type": "execute_result"
    }
   ],
   "source": [
    "liste_first_picture"
   ]
  },
  {
   "cell_type": "markdown",
   "metadata": {
    "id": "gRruuGw3MFbX"
   },
   "source": [
    "**Fragen für morgen**\n"
   ]
  },
  {
   "cell_type": "markdown",
   "metadata": {
    "id": "LNlTHFHqMKV3"
   },
   "source": [
    "status quo:\n",
    "- 2 Listen: eine mit duplicates und eine mit first pictures \n",
    "\n",
    "Wie bewege ich duplicates vom Urpsrungsfolder in einen neuen folder?"
   ]
  },
  {
   "cell_type": "code",
   "execution_count": null,
   "metadata": {
    "id": "pOJ1-24GLwxr"
   },
   "outputs": [],
   "source": []
  }
 ],
 "metadata": {
  "colab": {
   "authorship_tag": "ABX9TyMFP4yezViVHnw9/B19w1/E",
   "collapsed_sections": [],
   "name": "Duplicate_with_unique.ipynb",
   "provenance": []
  },
  "kernelspec": {
   "display_name": "Python 3",
   "language": "python",
   "name": "python3"
  },
  "language_info": {
   "codemirror_mode": {
    "name": "ipython",
    "version": 3
   },
   "file_extension": ".py",
   "mimetype": "text/x-python",
   "name": "python",
   "nbconvert_exporter": "python",
   "pygments_lexer": "ipython3",
   "version": "3.7.7"
  }
 },
 "nbformat": 4,
 "nbformat_minor": 1
}
